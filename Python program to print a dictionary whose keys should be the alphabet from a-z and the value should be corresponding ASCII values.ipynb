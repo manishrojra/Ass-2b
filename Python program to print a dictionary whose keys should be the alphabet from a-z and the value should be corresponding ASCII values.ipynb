{
 "cells": [
  {
   "cell_type": "code",
   "execution_count": 2,
   "id": "5c784b79",
   "metadata": {},
   "outputs": [
    {
     "name": "stdout",
     "output_type": "stream",
     "text": [
      "Enter a String: abcdefghijklmnopqrstuvwxyz\n",
      "a \t 97\n",
      "b \t 98\n",
      "c \t 99\n",
      "d \t 100\n",
      "e \t 101\n",
      "f \t 102\n",
      "g \t 103\n",
      "h \t 104\n",
      "i \t 105\n",
      "j \t 106\n",
      "k \t 107\n",
      "l \t 108\n",
      "m \t 109\n",
      "n \t 110\n",
      "o \t 111\n",
      "p \t 112\n",
      "q \t 113\n",
      "r \t 114\n",
      "s \t 115\n",
      "t \t 116\n",
      "u \t 117\n",
      "v \t 118\n",
      "w \t 119\n",
      "x \t 120\n",
      "y \t 121\n",
      "z \t 122\n"
     ]
    }
   ],
   "source": [
    "print(\"Enter a String: \", end=\"\")\n",
    "text = input()\n",
    "textlength = len(text)\n",
    "for char in text:\n",
    "    ascii = ord(char)\n",
    "    print(char, \"\\t\", ascii)"
   ]
  },
  {
   "cell_type": "code",
   "execution_count": null,
   "id": "fc26aa64",
   "metadata": {},
   "outputs": [],
   "source": []
  }
 ],
 "metadata": {
  "kernelspec": {
   "display_name": "Python 3 (ipykernel)",
   "language": "python",
   "name": "python3"
  },
  "language_info": {
   "codemirror_mode": {
    "name": "ipython",
    "version": 3
   },
   "file_extension": ".py",
   "mimetype": "text/x-python",
   "name": "python",
   "nbconvert_exporter": "python",
   "pygments_lexer": "ipython3",
   "version": "3.10.0"
  }
 },
 "nbformat": 4,
 "nbformat_minor": 5
}
